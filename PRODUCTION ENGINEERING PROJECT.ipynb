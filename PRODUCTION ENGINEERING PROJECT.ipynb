{
 "cells": [
  {
   "cell_type": "markdown",
   "id": "75154742",
   "metadata": {},
   "source": [
    "# PRODUCTION ENGINEERING PROJECT\n"
   ]
  },
  {
   "cell_type": "code",
   "execution_count": 86,
   "id": "b6417cd6",
   "metadata": {},
   "outputs": [
    {
     "name": "stdout",
     "output_type": "stream",
     "text": [
      "Please enter the value of your liquid viscosity?45\n",
      "What is the density of the liquid?76\n",
      "What is the surface tension of the liquid?23\n",
      "The liquid viscosity number is 381.21304876729215\n",
      "The liquid viscosity coefficient is 0.018002485068385667\n",
      "What is the value of the liquid velocity?22\n",
      "The liquid viscosity number is 59.73037930792272\n",
      "What is the value of the gas viscosity?24\n",
      "The gas viscosity number is 65.16041379046115\n",
      "Please enter the value of average pressure11\n",
      "Please enter your value of Nd34\n",
      "The pipe diameter number 0.0002143302453557812\n",
      "The liquid holdup is 0.7045584881763011\n",
      "The average density is 38.76748385066779\n",
      "What is your value for ql? 12\n",
      "What is your value for rho? 34\n",
      "What is your value for d? 56\n",
      "What is your value for u? 12\n",
      "The flow is laminar\n",
      "0.8985714285714285\n",
      "What is the value of your elevation?1990\n",
      "Please enter the value of the diameter of the pipe23\n",
      "The pressure drop of the pipe is 535.8770132572552\n"
     ]
    }
   ],
   "source": [
    "import math as m\n",
    "rhoL=54.99   # density of liquid(oil in this case)\n",
    "rhog=0.0806\n",
    "ul= float(input(\"Please enter the value of your liquid viscosity?\"))\n",
    "g=32.17\n",
    "rho_l=int(input(\"What is the density of the liquid?\"))\n",
    "sfl= int(input(\"What is the surface tension of the liquid?\"))\n",
    "NL=ul*(g/rho_l*sfl**3)**0.25  # liquid viscosity number\n",
    "print(\"The liquid viscosity number is\",NL)\n",
    "CNL=(0.0019+0.0322*NL - 0.6642*NL**2 + 4.9951*NL**3)/(1-10.0147*NL + 33.8696*NL**2 + 277.2817*NL**3) # liquid viscosity coefficient\n",
    "print(\"The liquid viscosity coefficient is\",CNL)\n",
    "Vsl=float(input(\"What is the value of the liquid velocity?\"))\n",
    "NLv=Vsl*(rho_l/g*sfl)**0.25 # liquid viscosity number\n",
    "print(\"The liquid viscosity number is\",NLv)\n",
    "Vsg=float(input(\"What is the value of the gas viscosity?\"))\n",
    "NGv=Vsg*(rho_l/g*sfl)**0.25 # gas viscosity number\n",
    "print(\"The gas viscosity number is\",NGv)\n",
    "P_bar=float(input(\"Please enter the value of average pressure\"))\n",
    "Nd=float(input(\"Please enter your value of Nd\"))\n",
    "phi=(NLv/NGv**0.575)*(P_bar/14.7)*0.1 * (CNL/Nd) # pipe diameter number\n",
    "print(\"The pipe diameter number\",phi)\n",
    "k=((0.0047+1123.32*phi+729489.64*phi**2)/(1+1097.1566*phi+722153.97*phi**2))**0.5\n",
    "phis=(NGv*NL**0.380)/Nd**2.14 # secondary correction factor correlating parameter\n",
    "j=(1.0886-69.9473*phis+2334.3497*phis**2-12896.683*phis**3)/(1-53.4401*phis+1517.9369*phis**2-8419.8115*phis**3)\n",
    "HL=k*j # Liquid holdup\n",
    "print(\"The liquid holdup is\",HL)\n",
    "if HL>1:\n",
    "    print(\"Please enter a valid liquid holdup value\")\n",
    "elif HL<0:\n",
    "    print(\"Please enter a valid liquid holdup value\")\n",
    "else:\n",
    "    rhom_bar= rhoL*HL + rhog*(1-HL)\n",
    "    print(\"The average density is\",rhom_bar)\n",
    "ql = float(input(\"What is your value for ql? \")) # this represents the flowrate\n",
    "rho = int(input(\"What is your value for rho? \")) \n",
    "d = int(input(\"What is your value for d? \"))\n",
    "u = int(input(\"What is your value for u? \"))\n",
    "def reynolds_number(ql,rho,d,u):\n",
    "    Re=(1.48*ql*p)/(d*u)\n",
    "    if Re <= 2100:\n",
    "        print(\"The flow is laminar\")\n",
    "    elif Re >= 4000:\n",
    "        print(\"The flow is turbulent\")\n",
    "    else:\n",
    "        print(\"The flow is transitional\")\n",
    "    return Re\n",
    "print(reynolds_number(ql,rho,d,u))\n",
    "Re = (1.48*ql*rho)/(d*u)\n",
    "def friction_factor(Re):\n",
    "    if Re<=2100:\n",
    "        f=16/Re\n",
    "    elif Re>2100:\n",
    "        a=-4*m.log10(0.0002698-(5.0452/Re)*m.log10((0.0001629)+(7.149/Re)**0.8981))\n",
    "        f=1/a**2\n",
    "    return f'The friction factor is {f}'\n",
    "\n",
    "a=-4*m.log10(0.0002698-(5.0452/Re)*m.log10((0.0001629)+(7.149/Re)**0.8981))\n",
    "f=1/a**2\n",
    "vm=5.615\n",
    "M=rhom_bar*vm\n",
    "delta_h=int(input(\"What is the value of your elevation?\"))\n",
    "D=int(input(\"Please enter the value of the diameter of the pipe\"))\n",
    "gc=32.17\n",
    "delta_p = ((delta_h*rhom_bar)/144)+(f*ql**2*M**2*delta_h)/(4.2699*10**13*D**5*rhom_bar) + (rhom_bar*(vm**2)/(2*gc))/(144)\n",
    "print(\"The pressure drop of the pipe is\",delta_p)\n",
    " \n",
    "\n",
    "\n",
    "\n",
    "\n",
    "    \n",
    "\n",
    "    \n",
    "\n"
   ]
  },
  {
   "cell_type": "code",
   "execution_count": null,
   "id": "095f84db",
   "metadata": {},
   "outputs": [],
   "source": [
    "\n"
   ]
  },
  {
   "cell_type": "markdown",
   "id": "8ee69981",
   "metadata": {},
   "source": []
  }
 ],
 "metadata": {
  "kernelspec": {
   "display_name": "Python 3 (ipykernel)",
   "language": "python",
   "name": "python3"
  },
  "language_info": {
   "codemirror_mode": {
    "name": "ipython",
    "version": 3
   },
   "file_extension": ".py",
   "mimetype": "text/x-python",
   "name": "python",
   "nbconvert_exporter": "python",
   "pygments_lexer": "ipython3",
   "version": "3.10.9"
  }
 },
 "nbformat": 4,
 "nbformat_minor": 5
}
